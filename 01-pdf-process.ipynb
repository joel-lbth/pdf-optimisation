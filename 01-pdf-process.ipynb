{
 "cells": [
  {
   "cell_type": "markdown",
   "metadata": {},
   "source": [
    "# pdf optimisation for planners\n",
    "\n",
    "1. remove the decision notice (first three pages) of the pdf, to just leave the S106 legal agreement (split PDF).\n",
    "2. then reduce the file size to under 5MB so that it will fit into our document management system on Exacom (compress PDF). \n",
    "3. plus OCR the PDF so that we can copy the text from the document into our system (legal clause text).\n"
   ]
  },
  {
   "cell_type": "markdown",
   "metadata": {},
   "source": [
    "0. to install these packages, first install [scoop](https://scoop.sh/)\n",
    "1. Split ([pdftk](https://scoop.sh/#/apps?q=pdftk&id=1baf4b75f78a347f787b20f45816e894392675bc))\n",
    "2. Compress ([ghostscript](https://scoop.sh/#/apps?q=ghostscript&id=b7c42fc707108f38755f0d1296307889a602edcf))\n",
    "3. Ocr ([ocrmypdf](https://ocrmypdf.readthedocs.io/en/latest/) requires [conda](https://scoop.sh/#/apps?q=anaconda&id=39e2245fc94826061b94becb2290e1e8a186f196) and [tesseract](https://scoop.sh/#/apps?q=tesseract&id=689900d11e96be93908d2234b27e6e7a1f23baf6))"
   ]
  },
  {
   "cell_type": "markdown",
   "metadata": {},
   "source": [
    "# 1\n",
    "> remove the decision notice (first three pages) of the pdf, to just leave the S106 legal agreement (split PDF).\n"
   ]
  },
  {
   "cell_type": "code",
   "execution_count": 1,
   "metadata": {},
   "outputs": [],
   "source": [
    "!pdftk \"data/raw/PA_99_00121 - DN and S106 agreement.pdf\" cat 3-end output \"data/interim/split.pdf\""
   ]
  },
  {
   "cell_type": "markdown",
   "metadata": {},
   "source": [
    "# 2\n",
    "> reduce the file size to under 5MB so that it will fit into our document management system on Exacom (compress PDF). \n"
   ]
  },
  {
   "cell_type": "code",
   "execution_count": 2,
   "metadata": {},
   "outputs": [
    {
     "name": "stdout",
     "output_type": "stream",
     "text": [
      "GPL Ghostscript 10.02.0 (2023-09-13)\n",
      "Copyright (C) 2023 Artifex Software, Inc.  All rights reserved.\n",
      "This software is supplied under the GNU AGPLv3 and comes with NO WARRANTY:\n",
      "see the file COPYING for details.\n",
      "Processing pages 1 through 15.\n",
      "Page 1\n",
      "Loading font Helvetica (or substitute) from %rom%Resource/Font/NimbusSans-Regular\n",
      "Page 2\n",
      "Page 3\n",
      "Page 4\n",
      "Page 5\n",
      "Page 6\n",
      "Page 7\n",
      "Page 8\n",
      "Page 9\n",
      "Page 10\n",
      "Page 11\n",
      "Page 12\n",
      "Page 13\n",
      "Page 14\n",
      "Page 15\n"
     ]
    }
   ],
   "source": [
    "!gs -sDEVICE=pdfwrite -dCompatibilityLevel=1.4 -dPDFSETTINGS=/screen -dNOPAUSE -dBATCH -dColorImageResolution=150 -sOutputFile=data/interim/compress.pdf data/interim/split.pdf"
   ]
  },
  {
   "cell_type": "markdown",
   "metadata": {},
   "source": [
    "# 3\n",
    "> OCR the PDF so that we can copy the text from the document into our system (legal clause text).\n"
   ]
  },
  {
   "cell_type": "code",
   "execution_count": 3,
   "metadata": {},
   "outputs": [
    {
     "name": "stderr",
     "output_type": "stream",
     "text": [
      "Start processing 8 pages concurrently\n",
      "    1 skipping all processing on this page\n",
      "    2 skipping all processing on this page\n",
      "    3 skipping all processing on this page\n",
      "    4 skipping all processing on this page\n",
      "    5 skipping all processing on this page\n",
      "    6 skipping all processing on this page\n",
      "    7 skipping all processing on this page\n",
      "    8 skipping all processing on this page\n",
      "    9 skipping all processing on this page\n",
      "   10 skipping all processing on this page\n",
      "   11 skipping all processing on this page\n",
      "   12 skipping all processing on this page\n",
      "   13 skipping all processing on this page\n",
      "   14 skipping all processing on this page\n",
      "   15 skipping all processing on this page\n",
      "Postprocessing...\n",
      "[WinError 2] The system cannot find the file specified\n",
      "[WinError 2] The system cannot find the file specified\n",
      "[WinError 2] The system cannot find the file specified\n",
      "[WinError 2] The system cannot find the file specified\n",
      "Image optimization ratio: 1.03 savings: 3.1%\n",
      "Total file size ratio: 1.03 savings: 2.8%\n",
      "Output file is a PDF/A-2B (as expected)\n"
     ]
    }
   ],
   "source": [
    "!ocrmypdf --output-type pdfa --pdfa-image-compression jpeg data/interim/compress.pdf \"data/processed/PA_99_00121 - DN and S106 agreement.pdf\" --skip-text\n"
   ]
  },
  {
   "cell_type": "code",
   "execution_count": 4,
   "metadata": {},
   "outputs": [
    {
     "name": "stdout",
     "output_type": "stream",
     "text": [
      "total 17M\n",
      "-rw-r--r-- 1 Joseph.Leach 1049089 17M Nov 16 13:57 PA_99_00121 - DN and S106 agreement.pdf\n",
      "total 1.2M\n",
      "-rw-r--r-- 1 Joseph.Leach 1049089 1.2M Nov 19 13:07 PA_99_00121 - DN and S106 agreement.pdf\n"
     ]
    }
   ],
   "source": [
    "!ls -lh data/raw/ && ls -lh data/processed"
   ]
  }
 ],
 "metadata": {
  "kernelspec": {
   "display_name": "pdf",
   "language": "python",
   "name": "python3"
  },
  "language_info": {
   "codemirror_mode": {
    "name": "ipython",
    "version": 3
   },
   "file_extension": ".py",
   "mimetype": "text/x-python",
   "name": "python",
   "nbconvert_exporter": "python",
   "pygments_lexer": "ipython3",
   "version": "3.12.0"
  }
 },
 "nbformat": 4,
 "nbformat_minor": 2
}
