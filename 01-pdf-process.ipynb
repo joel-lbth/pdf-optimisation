{
 "cells": [
  {
   "cell_type": "markdown",
   "metadata": {},
   "source": [
    "# pdf optimisation for planners\n",
    "\n",
    "## problem\n",
    "\n",
    "1. remove the decision notice (first three pages) of the pdf, to just leave the S106 legal agreement (split PDF).\n",
    "2. then reduce the file size to under 5MB so that it will fit into our document management system on Exacom (compress PDF). \n",
    "3. plus OCR the PDF so that we can copy the text from the document into our system (legal clause text).\n",
    "\n",
    "## solution \n",
    "\n",
    "> ocr was moved before compression to improve recognition\n",
    "\n",
    "0. to install these packages, first install [scoop](https://scoop.sh/)\n",
    "1. Split ([pdftk](https://scoop.sh/#/apps?q=pdftk&id=1baf4b75f78a347f787b20f45816e894392675bc))\n",
    "2. Ocr ([ocrmypdf](https://ocrmypdf.readthedocs.io/en/latest/) requires [conda](https://scoop.sh/#/apps?q=anaconda&id=39e2245fc94826061b94becb2290e1e8a186f196) and [tesseract](https://scoop.sh/#/apps?q=tesseract&id=689900d11e96be93908d2234b27e6e7a1f23baf6))\n",
    "3. Compress ([ghostscript](https://scoop.sh/#/apps?q=ghostscript&id=b7c42fc707108f38755f0d1296307889a602edcf))"
   ]
  },
  {
   "cell_type": "code",
   "execution_count": 1,
   "metadata": {},
   "outputs": [
    {
     "name": "stderr",
     "output_type": "stream",
     "text": [
      "The syntax of the command is incorrect.\n",
      "rm: cannot remove 'data/interim/*': No such file or directory\n"
     ]
    }
   ],
   "source": [
    "# CLEAR THE DECKS\n",
    "\n",
    "!mkdir -p data/interim\n",
    "!rm data/interim/*"
   ]
  },
  {
   "cell_type": "markdown",
   "metadata": {},
   "source": [
    "# split\n",
    "> remove the decision notice (first three pages) of the pdf, to just leave the S106 legal agreement (split PDF).\n"
   ]
  },
  {
   "cell_type": "code",
   "execution_count": 2,
   "metadata": {},
   "outputs": [],
   "source": [
    "!pdftk \"data/raw/PA_99_00121 - DN and S106 agreement.pdf\" cat 3-end output \"data/interim/split.pdf\""
   ]
  },
  {
   "cell_type": "markdown",
   "metadata": {},
   "source": [
    "# ocr\n",
    "> OCR the PDF so that we can copy the text from the document into our system (legal clause text).\n"
   ]
  },
  {
   "cell_type": "code",
   "execution_count": 3,
   "metadata": {},
   "outputs": [
    {
     "name": "stderr",
     "output_type": "stream",
     "text": [
      "Start processing 8 pages concurrently\n",
      "    1 redoing OCR\n",
      "    2 redoing OCR\n",
      "    3 redoing OCR\n",
      "    4 redoing OCR\n",
      "    5 redoing OCR\n",
      "    6 redoing OCR\n",
      "    7 redoing OCR\n",
      "    8 redoing OCR\n",
      "    9 redoing OCR\n",
      "   10 redoing OCR\n",
      "   11 redoing OCR\n",
      "    4 [tesseract] lots of diacritics - possibly poor OCR\n",
      "   12 redoing OCR\n",
      "   13 redoing OCR\n",
      "    5 [tesseract] lots of diacritics - possibly poor OCR\n",
      "   14 redoing OCR\n",
      "   15 redoing OCR\n",
      "    1 [tesseract] lots of diacritics - possibly poor OCR\n",
      "   11 [tesseract] lots of diacritics - possibly poor OCR\n",
      "   13 [tesseract] lots of diacritics - possibly poor OCR\n",
      "   10 [tesseract] lots of diacritics - possibly poor OCR\n",
      "   12 [tesseract] lots of diacritics - possibly poor OCR\n",
      "   14 [tesseract] lots of diacritics - possibly poor OCR\n",
      "   15 [tesseract] lots of diacritics - possibly poor OCR\n",
      "Postprocessing...\n",
      "[WinError 2] The system cannot find the file specified\n",
      "[WinError 2] The system cannot find the file specified\n",
      "[WinError 2] The system cannot find the file specified\n",
      "[WinError 2] The system cannot find the file specified\n",
      "Image optimization ratio: 1.13 savings: 11.7%\n",
      "Total file size ratio: 1.13 savings: 11.6%\n",
      "Output file is a PDF/A-2B (as expected)\n"
     ]
    }
   ],
   "source": [
    "!ocrmypdf --output-type pdfa --pdfa-image-compression jpeg data/interim/split.pdf \"data/interim/ocr.pdf\" --redo-ocr\n"
   ]
  },
  {
   "cell_type": "markdown",
   "metadata": {},
   "source": [
    "# compress\n",
    "> reduce the file size to under 5MB so that it will fit into our document management system on Exacom (compress PDF). \n"
   ]
  },
  {
   "cell_type": "code",
   "execution_count": 4,
   "metadata": {},
   "outputs": [],
   "source": [
    "grayscale = True"
   ]
  },
  {
   "cell_type": "code",
   "execution_count": 5,
   "metadata": {},
   "outputs": [
    {
     "name": "stdout",
     "output_type": "stream",
     "text": [
      "GPL Ghostscript 10.02.0 (2023-09-13)\n",
      "Copyright (C) 2023 Artifex Software, Inc.  All rights reserved.\n",
      "This software is supplied under the GNU AGPLv3 and comes with NO WARRANTY:\n",
      "see the file COPYING for details.\n",
      "Processing pages 1 through 15.\n",
      "Page 1\n",
      "Page 2\n",
      "Page 3\n",
      "Page 4\n",
      "Page 5\n",
      "Page 6\n",
      "Page 7\n",
      "Page 8\n",
      "Page 9\n",
      "Page 10\n",
      "Page 11\n",
      "Page 12\n",
      "Page 13\n",
      "Page 14\n",
      "Page 15\n"
     ]
    }
   ],
   "source": [
    "# USE GRAYSCALE\n",
    "if grayscale:\n",
    "  !gs -sDEVICE=pdfwrite -dCompatibilityLevel=1.4 -dPDFSETTINGS=/screen -dNOPAUSE -dBATCH -sProcessColorModel=DeviceGray -sColorConversionStrategy=Gray -dOverrideICC -sOutputFile=\"data/processed/PA_99_00121 - DN and S106 agreement.pdf\" data/interim/ocr.pdf"
   ]
  },
  {
   "cell_type": "code",
   "execution_count": 6,
   "metadata": {},
   "outputs": [],
   "source": [
    "# USE COLOURIMAGE RESOLUTION\n",
    "if not grayscale:\n",
    "  !gs -sDEVICE=pdfwrite -dCompatibilityLevel=1.4 -dPDFSETTINGS=/screen -dNOPAUSE -dBATCH -dColorImageResolution=150 -sOutputFile=\"data/processed/PA_99_00121 - DN and S106 agreement.pdf\" data/interim/ocr.pdf"
   ]
  },
  {
   "cell_type": "markdown",
   "metadata": {},
   "source": [
    "# compare files pre- and post-optimisation"
   ]
  },
  {
   "cell_type": "code",
   "execution_count": 7,
   "metadata": {},
   "outputs": [
    {
     "name": "stdout",
     "output_type": "stream",
     "text": [
      "17M\tdata/raw/PA_99_00121 - DN and S106 agreement.pdf\n",
      "1.5M\tdata/processed/PA_99_00121 - DN and S106 agreement.pdf\n"
     ]
    }
   ],
   "source": [
    "!du -h \"data/raw/PA_99_00121 - DN and S106 agreement.pdf\" && du -h \"data/processed/PA_99_00121 - DN and S106 agreement.pdf\""
   ]
  },
  {
   "cell_type": "code",
   "execution_count": null,
   "metadata": {},
   "outputs": [],
   "source": [
    "# CONVERT THIS NOTEBOOK TO PROJECT README\n",
    "!jupyter nbconvert --execute --to markdown 01-pdf-process.ipynb  && mv 01-pdf-process.md readme.md"
   ]
  }
 ],
 "metadata": {
  "kernelspec": {
   "display_name": "pdf",
   "language": "python",
   "name": "python3"
  },
  "language_info": {
   "codemirror_mode": {
    "name": "ipython",
    "version": 3
   },
   "file_extension": ".py",
   "mimetype": "text/x-python",
   "name": "python",
   "nbconvert_exporter": "python",
   "pygments_lexer": "ipython3",
   "version": "3.12.0"
  }
 },
 "nbformat": 4,
 "nbformat_minor": 2
}
